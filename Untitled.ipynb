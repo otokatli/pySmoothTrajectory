{
 "cells": [
  {
   "cell_type": "code",
   "execution_count": 2,
   "id": "86646a29",
   "metadata": {},
   "outputs": [],
   "source": [
    "import sympy as sp\n",
    "from sympy import init_printing"
   ]
  },
  {
   "cell_type": "code",
   "execution_count": 3,
   "id": "77859e03",
   "metadata": {},
   "outputs": [],
   "source": [
    "init_printing()"
   ]
  },
  {
   "cell_type": "code",
   "execution_count": 4,
   "id": "892d1b9e",
   "metadata": {},
   "outputs": [],
   "source": [
    "t0, t1 = sp.symbols('t_0 t_1')"
   ]
  },
  {
   "cell_type": "code",
   "execution_count": 5,
   "id": "4cf960ac",
   "metadata": {},
   "outputs": [],
   "source": [
    "A = sp.Matrix([[1, t0], [1, t1]])\n",
    "b = sp.Matrix([[0], [1]])"
   ]
  },
  {
   "cell_type": "code",
   "execution_count": 6,
   "id": "5fb303f2",
   "metadata": {},
   "outputs": [
    {
     "data": {
      "text/latex": [
       "$\\displaystyle \\left[\\begin{matrix}1 & t_{0}\\\\1 & t_{1}\\end{matrix}\\right]$"
      ],
      "text/plain": [
       "⎡1  t₀⎤\n",
       "⎢     ⎥\n",
       "⎣1  t₁⎦"
      ]
     },
     "execution_count": 6,
     "metadata": {},
     "output_type": "execute_result"
    }
   ],
   "source": [
    "A"
   ]
  },
  {
   "cell_type": "code",
   "execution_count": 7,
   "id": "99738378",
   "metadata": {},
   "outputs": [
    {
     "data": {
      "text/latex": [
       "$\\displaystyle \\left[\\begin{matrix}0\\\\1\\end{matrix}\\right]$"
      ],
      "text/plain": [
       "⎡0⎤\n",
       "⎢ ⎥\n",
       "⎣1⎦"
      ]
     },
     "execution_count": 7,
     "metadata": {},
     "output_type": "execute_result"
    }
   ],
   "source": [
    "b"
   ]
  },
  {
   "cell_type": "code",
   "execution_count": 8,
   "id": "b8328690",
   "metadata": {},
   "outputs": [
    {
     "data": {
      "text/latex": [
       "$\\displaystyle \\left[\\begin{matrix}- \\frac{t_{0}}{- t_{0} + t_{1}}\\\\\\frac{1}{- t_{0} + t_{1}}\\end{matrix}\\right]$"
      ],
      "text/plain": [
       "⎡  -t₀   ⎤\n",
       "⎢────────⎥\n",
       "⎢-t₀ + t₁⎥\n",
       "⎢        ⎥\n",
       "⎢   1    ⎥\n",
       "⎢────────⎥\n",
       "⎣-t₀ + t₁⎦"
      ]
     },
     "execution_count": 8,
     "metadata": {},
     "output_type": "execute_result"
    }
   ],
   "source": [
    "A.inv() * b"
   ]
  },
  {
   "cell_type": "code",
   "execution_count": 9,
   "id": "7f04592c",
   "metadata": {},
   "outputs": [],
   "source": [
    "A = sp.Matrix([[1, t0, t0**2, t0**3], [0, 1, 2*t0, 3*t0**2], [1, t1, t1**2, t1**3], [0, 1, 2*t1, 3*t1**2]])\n",
    "b = sp.Matrix([[0], [0], [1], [0]])"
   ]
  },
  {
   "cell_type": "code",
   "execution_count": 10,
   "id": "19d57e98",
   "metadata": {},
   "outputs": [
    {
     "data": {
      "text/latex": [
       "$\\displaystyle \\left[\\begin{matrix}1 & t_{0} & t_{0}^{2} & t_{0}^{3}\\\\0 & 1 & 2 t_{0} & 3 t_{0}^{2}\\\\1 & t_{1} & t_{1}^{2} & t_{1}^{3}\\\\0 & 1 & 2 t_{1} & 3 t_{1}^{2}\\end{matrix}\\right]$"
      ],
      "text/plain": [
       "⎡         2      3 ⎤\n",
       "⎢1  t₀  t₀     t₀  ⎥\n",
       "⎢                  ⎥\n",
       "⎢                 2⎥\n",
       "⎢0  1   2⋅t₀  3⋅t₀ ⎥\n",
       "⎢                  ⎥\n",
       "⎢         2      3 ⎥\n",
       "⎢1  t₁  t₁     t₁  ⎥\n",
       "⎢                  ⎥\n",
       "⎢                 2⎥\n",
       "⎣0  1   2⋅t₁  3⋅t₁ ⎦"
      ]
     },
     "execution_count": 10,
     "metadata": {},
     "output_type": "execute_result"
    }
   ],
   "source": [
    "A"
   ]
  },
  {
   "cell_type": "code",
   "execution_count": 11,
   "id": "82bab9e4",
   "metadata": {},
   "outputs": [
    {
     "data": {
      "text/latex": [
       "$\\displaystyle \\left[\\begin{matrix}\\frac{t_{0}^{3} - 3 t_{0}^{2} t_{1}}{t_{0}^{3} - 3 t_{0}^{2} t_{1} + 3 t_{0} t_{1}^{2} - t_{1}^{3}}\\\\\\frac{6 t_{0} t_{1}}{t_{0}^{3} - 3 t_{0}^{2} t_{1} + 3 t_{0} t_{1}^{2} - t_{1}^{3}}\\\\\\frac{- 3 t_{0} - 3 t_{1}}{t_{0}^{3} - 3 t_{0}^{2} t_{1} + 3 t_{0} t_{1}^{2} - t_{1}^{3}}\\\\\\frac{2}{t_{0}^{3} - 3 t_{0}^{2} t_{1} + 3 t_{0} t_{1}^{2} - t_{1}^{3}}\\end{matrix}\\right]$"
      ],
      "text/plain": [
       "⎡           3       2           ⎤\n",
       "⎢         t₀  - 3⋅t₀ ⋅t₁        ⎥\n",
       "⎢───────────────────────────────⎥\n",
       "⎢  3       2             2     3⎥\n",
       "⎢t₀  - 3⋅t₀ ⋅t₁ + 3⋅t₀⋅t₁  - t₁ ⎥\n",
       "⎢                               ⎥\n",
       "⎢            6⋅t₀⋅t₁            ⎥\n",
       "⎢───────────────────────────────⎥\n",
       "⎢  3       2             2     3⎥\n",
       "⎢t₀  - 3⋅t₀ ⋅t₁ + 3⋅t₀⋅t₁  - t₁ ⎥\n",
       "⎢                               ⎥\n",
       "⎢          -3⋅t₀ - 3⋅t₁         ⎥\n",
       "⎢───────────────────────────────⎥\n",
       "⎢  3       2             2     3⎥\n",
       "⎢t₀  - 3⋅t₀ ⋅t₁ + 3⋅t₀⋅t₁  - t₁ ⎥\n",
       "⎢                               ⎥\n",
       "⎢               2               ⎥\n",
       "⎢───────────────────────────────⎥\n",
       "⎢  3       2             2     3⎥\n",
       "⎣t₀  - 3⋅t₀ ⋅t₁ + 3⋅t₀⋅t₁  - t₁ ⎦"
      ]
     },
     "execution_count": 11,
     "metadata": {},
     "output_type": "execute_result"
    }
   ],
   "source": [
    "A.inv() * b"
   ]
  },
  {
   "cell_type": "code",
   "execution_count": 12,
   "id": "7bc2f6e1",
   "metadata": {},
   "outputs": [],
   "source": [
    "A = sp.Matrix([[1, t0, t0**2, t0**3,   t0**4,    t0**5],\n",
    "               [0, 1,  2*t0,  3*t0**2, 4*t0**3,  5*t0**4],\n",
    "               [0, 0,  2,     6*t0,    12*t0**2, 20*t0**3],\n",
    "               [1, t1, t1**2, t1**3,   t1**4,    t1**5],\n",
    "               [0, 1, 2*t1, 3*t1**2,   4*t1**3,  5*t1**4],\n",
    "               [0, 0,  2,     6*t1,    12*t1**2, 20*t1**3]])\n",
    "b = sp.Matrix([[0], [0], [0], [1], [0], [0]])"
   ]
  },
  {
   "cell_type": "code",
   "execution_count": 13,
   "id": "7dfa8f20",
   "metadata": {},
   "outputs": [
    {
     "data": {
      "text/latex": [
       "$\\displaystyle \\left[\\begin{matrix}1 & t_{0} & t_{0}^{2} & t_{0}^{3} & t_{0}^{4} & t_{0}^{5}\\\\0 & 1 & 2 t_{0} & 3 t_{0}^{2} & 4 t_{0}^{3} & 5 t_{0}^{4}\\\\0 & 0 & 2 & 6 t_{0} & 12 t_{0}^{2} & 20 t_{0}^{3}\\\\1 & t_{1} & t_{1}^{2} & t_{1}^{3} & t_{1}^{4} & t_{1}^{5}\\\\0 & 1 & 2 t_{1} & 3 t_{1}^{2} & 4 t_{1}^{3} & 5 t_{1}^{4}\\\\0 & 0 & 2 & 6 t_{1} & 12 t_{1}^{2} & 20 t_{1}^{3}\\end{matrix}\\right]$"
      ],
      "text/plain": [
       "⎡         2      3      4       5  ⎤\n",
       "⎢1  t₀  t₀     t₀     t₀      t₀   ⎥\n",
       "⎢                                  ⎥\n",
       "⎢                 2      3       4 ⎥\n",
       "⎢0  1   2⋅t₀  3⋅t₀   4⋅t₀    5⋅t₀  ⎥\n",
       "⎢                                  ⎥\n",
       "⎢                         2       3⎥\n",
       "⎢0  0    2    6⋅t₀   12⋅t₀   20⋅t₀ ⎥\n",
       "⎢                                  ⎥\n",
       "⎢         2      3      4       5  ⎥\n",
       "⎢1  t₁  t₁     t₁     t₁      t₁   ⎥\n",
       "⎢                                  ⎥\n",
       "⎢                 2      3       4 ⎥\n",
       "⎢0  1   2⋅t₁  3⋅t₁   4⋅t₁    5⋅t₁  ⎥\n",
       "⎢                                  ⎥\n",
       "⎢                         2       3⎥\n",
       "⎣0  0    2    6⋅t₁   12⋅t₁   20⋅t₁ ⎦"
      ]
     },
     "execution_count": 13,
     "metadata": {},
     "output_type": "execute_result"
    }
   ],
   "source": [
    "A"
   ]
  },
  {
   "cell_type": "code",
   "execution_count": 15,
   "id": "d677fe08",
   "metadata": {},
   "outputs": [
    {
     "data": {
      "text/latex": [
       "$\\displaystyle \\left[\\begin{matrix}\\frac{t_{0}^{3} \\left(t_{0}^{2} - 5 t_{0} t_{1} + 10 t_{1}^{2}\\right)}{t_{0}^{5} - 5 t_{0}^{4} t_{1} + 10 t_{0}^{3} t_{1}^{2} - 10 t_{0}^{2} t_{1}^{3} + 5 t_{0} t_{1}^{4} - t_{1}^{5}}\\\\- \\frac{30 t_{0}^{2} t_{1}^{2}}{t_{0}^{5} - 5 t_{0}^{4} t_{1} + 10 t_{0}^{3} t_{1}^{2} - 10 t_{0}^{2} t_{1}^{3} + 5 t_{0} t_{1}^{4} - t_{1}^{5}}\\\\\\frac{30 t_{0} t_{1} \\left(t_{0} + t_{1}\\right)}{t_{0}^{5} - 5 t_{0}^{4} t_{1} + 10 t_{0}^{3} t_{1}^{2} - 10 t_{0}^{2} t_{1}^{3} + 5 t_{0} t_{1}^{4} - t_{1}^{5}}\\\\\\frac{10 \\left(- t_{0}^{2} - 4 t_{0} t_{1} - t_{1}^{2}\\right)}{t_{0}^{5} - 5 t_{0}^{4} t_{1} + 10 t_{0}^{3} t_{1}^{2} - 10 t_{0}^{2} t_{1}^{3} + 5 t_{0} t_{1}^{4} - t_{1}^{5}}\\\\\\frac{15 \\left(t_{0} + t_{1}\\right)}{t_{0}^{5} - 5 t_{0}^{4} t_{1} + 10 t_{0}^{3} t_{1}^{2} - 10 t_{0}^{2} t_{1}^{3} + 5 t_{0} t_{1}^{4} - t_{1}^{5}}\\\\- \\frac{6}{t_{0}^{5} - 5 t_{0}^{4} t_{1} + 10 t_{0}^{3} t_{1}^{2} - 10 t_{0}^{2} t_{1}^{3} + 5 t_{0} t_{1}^{4} - t_{1}^{5}}\\end{matrix}\\right]$"
      ],
      "text/plain": [
       "⎡                 3 ⎛  2                  2⎞              ⎤\n",
       "⎢               t₀ ⋅⎝t₀  - 5⋅t₀⋅t₁ + 10⋅t₁ ⎠              ⎥\n",
       "⎢─────────────────────────────────────────────────────────⎥\n",
       "⎢  5       4           3   2        2   3          4     5⎥\n",
       "⎢t₀  - 5⋅t₀ ⋅t₁ + 10⋅t₀ ⋅t₁  - 10⋅t₀ ⋅t₁  + 5⋅t₀⋅t₁  - t₁ ⎥\n",
       "⎢                                                         ⎥\n",
       "⎢                             2   2                       ⎥\n",
       "⎢                       -30⋅t₀ ⋅t₁                        ⎥\n",
       "⎢─────────────────────────────────────────────────────────⎥\n",
       "⎢  5       4           3   2        2   3          4     5⎥\n",
       "⎢t₀  - 5⋅t₀ ⋅t₁ + 10⋅t₀ ⋅t₁  - 10⋅t₀ ⋅t₁  + 5⋅t₀⋅t₁  - t₁ ⎥\n",
       "⎢                                                         ⎥\n",
       "⎢                    30⋅t₀⋅t₁⋅(t₀ + t₁)                   ⎥\n",
       "⎢─────────────────────────────────────────────────────────⎥\n",
       "⎢  5       4           3   2        2   3          4     5⎥\n",
       "⎢t₀  - 5⋅t₀ ⋅t₁ + 10⋅t₀ ⋅t₁  - 10⋅t₀ ⋅t₁  + 5⋅t₀⋅t₁  - t₁ ⎥\n",
       "⎢                                                         ⎥\n",
       "⎢                   ⎛    2               2⎞               ⎥\n",
       "⎢                10⋅⎝- t₀  - 4⋅t₀⋅t₁ - t₁ ⎠               ⎥\n",
       "⎢─────────────────────────────────────────────────────────⎥\n",
       "⎢  5       4           3   2        2   3          4     5⎥\n",
       "⎢t₀  - 5⋅t₀ ⋅t₁ + 10⋅t₀ ⋅t₁  - 10⋅t₀ ⋅t₁  + 5⋅t₀⋅t₁  - t₁ ⎥\n",
       "⎢                                                         ⎥\n",
       "⎢                       15⋅(t₀ + t₁)                      ⎥\n",
       "⎢─────────────────────────────────────────────────────────⎥\n",
       "⎢  5       4           3   2        2   3          4     5⎥\n",
       "⎢t₀  - 5⋅t₀ ⋅t₁ + 10⋅t₀ ⋅t₁  - 10⋅t₀ ⋅t₁  + 5⋅t₀⋅t₁  - t₁ ⎥\n",
       "⎢                                                         ⎥\n",
       "⎢                           -6                            ⎥\n",
       "⎢─────────────────────────────────────────────────────────⎥\n",
       "⎢  5       4           3   2        2   3          4     5⎥\n",
       "⎣t₀  - 5⋅t₀ ⋅t₁ + 10⋅t₀ ⋅t₁  - 10⋅t₀ ⋅t₁  + 5⋅t₀⋅t₁  - t₁ ⎦"
      ]
     },
     "execution_count": 15,
     "metadata": {},
     "output_type": "execute_result"
    }
   ],
   "source": [
    "sp.simplify(A.inv() * b)"
   ]
  },
  {
   "cell_type": "code",
   "execution_count": null,
   "id": "ef618383",
   "metadata": {},
   "outputs": [],
   "source": []
  }
 ],
 "metadata": {
  "kernelspec": {
   "display_name": "Python 3 (ipykernel)",
   "language": "python",
   "name": "python3"
  },
  "language_info": {
   "codemirror_mode": {
    "name": "ipython",
    "version": 3
   },
   "file_extension": ".py",
   "mimetype": "text/x-python",
   "name": "python",
   "nbconvert_exporter": "python",
   "pygments_lexer": "ipython3",
   "version": "3.11.2"
  }
 },
 "nbformat": 4,
 "nbformat_minor": 5
}
